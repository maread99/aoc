{
 "cells": [
  {
   "cell_type": "code",
   "execution_count": 1,
   "metadata": {},
   "outputs": [],
   "source": [
    "import bqplot as bq\n",
    "from collections import defaultdict"
   ]
  },
  {
   "cell_type": "code",
   "execution_count": 2,
   "metadata": {},
   "outputs": [],
   "source": [
    "raw = \"\"\"jqt: rhn xhk nvd\n",
    "rsh: frs pzl lsr\n",
    "xhk: hfx\n",
    "cmg: qnr nvd lhk bvb\n",
    "rhn: xhk bvb hfx\n",
    "bvb: xhk hfx\n",
    "pzl: lsr hfx nvd\n",
    "qnr: nvd\n",
    "ntq: jqt hfx bvb xhk\n",
    "nvd: lhk\n",
    "lsr: lhk\n",
    "rzs: qnr cmg lsr rsh\n",
    "frs: qnr lhk lsr\n",
    "\"\"\"\n",
    "fig_layout = bq.Layout(width='600px', height='600px')"
   ]
  },
  {
   "cell_type": "code",
   "execution_count": 3,
   "metadata": {},
   "outputs": [],
   "source": [
    "# raw = \"\" # ENTER REAL DATA HERE AND UNCOMMENT THIS CELL\n",
    "# fig_layout = bq.Layout(width='1500px', height='2500px')"
   ]
  },
  {
   "cell_type": "code",
   "execution_count": 4,
   "metadata": {},
   "outputs": [],
   "source": [
    "lines = raw.splitlines()\n",
    "\n",
    "MAP_: dict[str, set[str]] = defaultdict(set)\n",
    "for line in lines:\n",
    "    lhs, rhs_ = line.split(\":\")\n",
    "    rhs = set(rhs_.split())\n",
    "    MAP_[lhs] |= rhs\n",
    "    for k in rhs:\n",
    "        MAP_[k].add(lhs)\n",
    "\n",
    "MAP = {k: list(v) for k, v in MAP_.items()}"
   ]
  },
  {
   "cell_type": "code",
   "execution_count": 5,
   "metadata": {},
   "outputs": [
    {
     "data": {
      "application/vnd.jupyter.widget-view+json": {
       "model_id": "f1d5487a739e4e5794661aac7864233e",
       "version_major": 2,
       "version_minor": 0
      },
      "text/plain": [
       "Figure(fig_margin={'top': 60, 'bottom': 60, 'left': 60, 'right': 60}, layout=Layout(height='600px', width='600…"
      ]
     },
     "execution_count": 5,
     "metadata": {},
     "output_type": "execute_result"
    }
   ],
   "source": [
    "node_data = list(MAP.keys())\n",
    "\n",
    "link_data = []\n",
    "seen: set[tuple[str, str]] = set()\n",
    "for i, (k, v) in enumerate(MAP.items()):\n",
    "    for n in v:\n",
    "        if (n, k) in seen:  # avoid duplicating edges between adjoining nodes\n",
    "            continue\n",
    "        link_data.append({\"source\": i, \"target\": node_data.index(n)})\n",
    "        seen.add((k, n))\n",
    "\n",
    "graph = bq.Graph(\n",
    "    node_data=node_data,\n",
    "    link_data=link_data,\n",
    "    charge=-300,\n",
    "    colors=['orange'] * len(node_data),\n",
    "    directed=False\n",
    ")\n",
    "\n",
    "bq.Figure(marks=[graph], layout=fig_layout)"
   ]
  }
 ],
 "metadata": {
  "kernelspec": {
   "display_name": "Py11 aoc",
   "language": "python",
   "name": "aoc"
  },
  "language_info": {
   "codemirror_mode": {
    "name": "ipython",
    "version": 3
   },
   "file_extension": ".py",
   "mimetype": "text/x-python",
   "name": "python",
   "nbconvert_exporter": "python",
   "pygments_lexer": "ipython3",
   "version": "3.11.0"
  }
 },
 "nbformat": 4,
 "nbformat_minor": 2
}
